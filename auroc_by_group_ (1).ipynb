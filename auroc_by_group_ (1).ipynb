{
 "cells": [
  {
   "cell_type": "code",
   "execution_count": 205,
   "metadata": {},
   "outputs": [],
   "source": [
    "import sklearn\n",
    "import statistics\n",
    "import csv\n",
    "import numpy as np\n",
    "import pandas as pd\n",
    "from sklearn.model_selection import cross_val_score\n",
    "from sklearn.model_selection import cross_val_predict\n",
    "from sklearn.model_selection import LeaveOneGroupOut\n",
    "from sklearn.metrics import roc_auc_score\n",
    "from sklearn.ensemble import RandomForestClassifier\n",
    "from sklearn.ensemble import AdaBoostClassifier\n",
    "from sklearn.multioutput import MultiOutputClassifier\n",
    "from sklearn.ensemble import GradientBoostingClassifier\n",
    "from sklearn.svm import LinearSVC\n",
    "from sklearn.calibration import CalibratedClassifierCV\n",
    "from sklearn.multiclass import OneVsRestClassifier\n",
    "from sklearn.model_selection import cross_val_predict, GroupKFold\n",
    "\n",
    "\n"
   ]
  },
  {
   "cell_type": "code",
   "execution_count": 206,
   "metadata": {},
   "outputs": [],
   "source": [
    "pd.set_option('display.max_columns', None)"
   ]
  },
  {
   "cell_type": "code",
   "execution_count": 207,
   "metadata": {},
   "outputs": [],
   "source": [
    "logo = LeaveOneGroupOut()\n",
    "cv = logo"
   ]
  },
  {
   "cell_type": "code",
   "execution_count": 208,
   "metadata": {},
   "outputs": [],
   "source": [
    "def getDataset(path):\n",
    "    weights_set_file = path\n",
    "    df_weights = pd.read_csv(weights_set_file)\n",
    "    return df_weights\n"
   ]
  },
  {
   "cell_type": "code",
   "execution_count": 209,
   "metadata": {},
   "outputs": [],
   "source": [
    "def getX(df_weights):\n",
    "    #X = df_weights.iloc[:, 109:] #FOR VERBAL\n",
    "    #X = df_weights.iloc[:, 21:109]  #Acoustic \n",
    "    X = df_weights.iloc[:, 21:]    #verbal + acoustic\n",
    "    X = X.to_numpy()\n",
    "    return X"
   ]
  },
  {
   "cell_type": "code",
   "execution_count": 210,
   "metadata": {},
   "outputs": [],
   "source": [
    "def getUtteranceID(df_weights):\n",
    "    utterance_ids = pd.DataFrame(df_weights['utteranceID'], columns=['utteranceID'])\n",
    "    utterance_ids = utterance_ids.to_numpy()\n",
    "    utterance_ids = utterance_ids.reshape(-1)\n",
    "    return utterance_ids"
   ]
  },
  {
   "cell_type": "code",
   "execution_count": 211,
   "metadata": {},
   "outputs": [],
   "source": [
    "def getGroups(df_weights):\n",
    "    groups = pd.DataFrame(df_weights['Group'], columns=['Group'])\n",
    "    groups = groups.to_numpy()\n",
    "    groups = groups.reshape(-1)\n",
    "    return groups\n"
   ]
  },
  {
   "cell_type": "code",
   "execution_count": 212,
   "metadata": {},
   "outputs": [],
   "source": [
    "def getGroupIndices(groups):\n",
    "    groupnames = np.unique(groups)\n",
    "    groupDict = {}\n",
    "    for name in groupnames:\n",
    "        groupDict[name] = []\n",
    "    for i in range(len(groups)):\n",
    "        groupDict[groups[i]].append(i)\n",
    "    return groupDict"
   ]
  },
  {
   "cell_type": "code",
   "execution_count": null,
   "metadata": {},
   "outputs": [],
   "source": []
  },
  {
   "cell_type": "code",
   "execution_count": 204,
   "metadata": {},
   "outputs": [],
   "source": [
    "bert_features = r\"WhisperFin/Whisper_Prosodic/Whisper_Final_Prosodic.csv\"\n",
    "prosodic_features = r\"WhisperFin/Whisper_Prosodic/Whisper_Final_Prosodic.csv\"\n",
    "# bp_features = r\"C:\\Users\\Bbykitty\\OneDrive - Colostate\\Research\\iSAT-CSU\\bert-opensmile_cps.csv\""
   ]
  },
  {
   "cell_type": "code",
   "execution_count": 213,
   "metadata": {},
   "outputs": [],
   "source": [
    "def getBinaryCVScores(clf, X, y, groups, num_classes):\n",
    "    group_kfold = GroupKFold(n_splits=5)\n",
    "    calibrated_clf = CalibratedClassifierCV(clf, method='sigmoid', cv=5)\n",
    "    ovr_clf = OneVsRestClassifier(calibrated_clf)\n",
    "\n",
    "    # Perform cross-validation\n",
    "    y_scores = cross_val_predict(ovr_clf, X, y, groups=groups, cv=group_kfold, method='predict_proba', n_jobs=-1)\n",
    "\n",
    "    roc_auc_ovr = {}\n",
    "    roc_avg = {}\n",
    "    roc_sd = {}\n",
    "    group_indices = getGroupIndices(groups)\n",
    "    for groupname in group_indices:\n",
    "        roc_auc_ovr[groupname] = {}\n",
    "        for class_id in range(num_classes):\n",
    "            # Adjust the indexing to correctly reference the slices for each class\n",
    "            prob_tmp = y_scores[group_indices[groupname], class_id]\n",
    "            true_max_tmp = y[group_indices[groupname], class_id]\n",
    "            try:\n",
    "                roc_auc_ovr[groupname][class_id] = roc_auc_score(true_max_tmp, prob_tmp)\n",
    "            except ValueError as e:\n",
    "                print(f\"Issue with class {class_id}: {e}\")\n",
    "                roc_auc_ovr[groupname][class_id] = 0\n",
    "    for class_id in range(num_classes):\n",
    "        class_aurocs = [roc_auc_ovr[groupname][class_id] for groupname in roc_auc_ovr if roc_auc_ovr[groupname][class_id] > 0]\n",
    "        roc_sd[class_id] = statistics.stdev(class_aurocs) if len(class_aurocs) > 1 else 0\n",
    "        roc_avg[class_id] = sum(class_aurocs) / len(class_aurocs) if class_aurocs else 0\n",
    "        print(f\"Class {class_id} Aurocs: {class_aurocs}\")\n",
    "        print(f\"Average Class {class_id}: {roc_avg[class_id]}\")\n",
    "\n",
    "    return roc_auc_ovr, roc_avg, roc_sd\n"
   ]
  },
  {
   "cell_type": "code",
   "execution_count": 214,
   "metadata": {},
   "outputs": [],
   "source": [
    "def getYBinary(df_weights):\n",
    "    y = df_weights.iloc[:, 2:21]\n",
    "    print(y.columns)\n",
    "    y = y.to_numpy()\n",
    "    y_facets = []\n",
    "    for i in range(len(y)):\n",
    "        const = 0\n",
    "        neg = 0\n",
    "        maintain = 0\n",
    "        if(1 in y[i][:5]):\n",
    "            const = 1\n",
    "        if(1 in y[i][5:12]):\n",
    "            neg = 1\n",
    "        if(1 in y[i][12:]):\n",
    "            maintain = 1\n",
    "        y_facets.append([const,neg,maintain])\n",
    "    y = np.array(y_facets)\n",
    "    print(y.shape)\n",
    "    return y"
   ]
  },
  {
   "cell_type": "code",
   "execution_count": 215,
   "metadata": {},
   "outputs": [],
   "source": [
    "def getBinaryModelScores(clf, path, num_classes):\n",
    "    df_weights = getDataset(path)\n",
    "    y = getYBinary(df_weights)\n",
    "    X = getX(df_weights)\n",
    "    groups = getGroups(df_weights)\n",
    "    roc_folds, roc_avg, roc_sd = getBinaryCVScores(clf, X, y, groups, num_classes)\n",
    "    # print(\"Average: \", roc_avg)\n",
    "    print(\"Group Results: \", roc_folds)\n",
    "    print(\"Standard Deviation: \", roc_sd)\n",
    "    return roc_folds, roc_avg, roc_sd"
   ]
  },
  {
   "cell_type": "code",
   "execution_count": 216,
   "metadata": {},
   "outputs": [
    {
     "name": "stdout",
     "output_type": "stream",
     "text": [
      "Index(['CPS_CONST_EstablishesCG_Confirms',\n",
      "       'CPS_CONST_EstablishesCG_Interrupts',\n",
      "       'CPS_CONST_SharesU_CorrectSolutions',\n",
      "       'CPS_CONST_SharesU_IncorrectSolutions', 'CPS_CONST_SharesU_Situation',\n",
      "       'CPS_MAINTAIN_FulfillsR_Apologizes',\n",
      "       'CPS_MAINTAIN_FulfillsR_InitiatesOffTopic',\n",
      "       'CPS_MAINTAIN_FulfillsR_JoinsOffTopic',\n",
      "       'CPS_MAINTAIN_FulfillsR_Support', 'CPS_MAINTAIN_Initiative_Compliments',\n",
      "       'CPS_MAINTAIN_Initiative_Criticizes',\n",
      "       'CPS_MAINTAIN_Initiative_Suggestions', 'CPS_NEG_MonitorsE_GivingUp',\n",
      "       'CPS_NEG_MonitorsE_Results', 'CPS_NEG_MonitorsE_Save',\n",
      "       'CPS_NEG_MonitorsE_Strategizes', 'CPS_NEG_Responds_QuestionsOthers',\n",
      "       'CPS_NEG_Responds_Reasons', 'CPS_NEG_Responds_Responds'],\n",
      "      dtype='object')\n",
      "(2932, 3)\n",
      "Class 0 Aurocs: [0.5733450740702373, 0.5526315789473684, 0.5735042735042735, 0.5754583254583254, 0.5889787664307382, 0.5598783299808664, 0.5753569539925967, 0.5535991531404375, 0.623969703720205, 0.5845588235294118]\n",
      "Average Class 0: 0.5761280982774462\n",
      "Class 1 Aurocs: [0.43829423264907136, 0.46160558464223383, 0.48537922631739266, 0.6604938271604939, 0.4132564841498559, 0.36870848708487086, 0.5321625484990812, 0.5210601795293992, 0.5288461538461537, 0.5643039591315454]\n",
      "Average Class 1: 0.4974110683010099\n",
      "Class 2 Aurocs: [0.4882680453370451, 0.5578969774372073, 0.5412615307903266, 0.4096153846153846, 0.3805391055748418, 0.5459874671518092, 0.4579656862745098, 0.47737447737447736, 0.5428571428571429, 0.47988292958143797]\n",
      "Average Class 2: 0.4881648746994184\n",
      "Group Results:  {'Group01': {0: 0.5733450740702373, 1: 0.43829423264907136, 2: 0.4882680453370451}, 'Group02': {0: 0.5526315789473684, 1: 0.46160558464223383, 2: 0.5578969774372073}, 'Group03': {0: 0.5735042735042735, 1: 0.48537922631739266, 2: 0.5412615307903266}, 'Group04': {0: 0.5754583254583254, 1: 0.6604938271604939, 2: 0.4096153846153846}, 'Group05': {0: 0.5889787664307382, 1: 0.4132564841498559, 2: 0.3805391055748418}, 'Group06': {0: 0.5598783299808664, 1: 0.36870848708487086, 2: 0.5459874671518092}, 'Group07': {0: 0.5753569539925967, 1: 0.5321625484990812, 2: 0.4579656862745098}, 'Group08': {0: 0.5535991531404375, 1: 0.5210601795293992, 2: 0.47737447737447736}, 'Group09': {0: 0.623969703720205, 1: 0.5288461538461537, 2: 0.5428571428571429}, 'Group10': {0: 0.5845588235294118, 1: 0.5643039591315454, 2: 0.47988292958143797}}\n",
      "Standard Deviation:  {0: 0.020721442759250048, 1: 0.08326243791395252, 2: 0.0604307417366827}\n"
     ]
    }
   ],
   "source": [
    "# Set up the LinearSVC classifier with specified parameters\n",
    "p_bi_svc = LinearSVC(C=1.0, max_iter=1000, random_state=1)\n",
    "\n",
    "# Get model scores for the LinearSVC classifier\n",
    "p_bi_svc_folds, p_bi_svc_avg, p_bi_svc_sd = getBinaryModelScores(p_bi_svc, bert_features, 3)"
   ]
  },
  {
   "cell_type": "code",
   "execution_count": 32,
   "metadata": {},
   "outputs": [
    {
     "name": "stdout",
     "output_type": "stream",
     "text": [
      "Index(['CPS_CONST_SharesU_Situation', 'CPS_CONST_SharesU_CorrectSolutions',\n",
      "       'CPS_CONST_SharesU_IncorrectSolutions',\n",
      "       'CPS_CONST_EstablishesCG_Confirms',\n",
      "       'CPS_CONST_EstablishesCG_Interrupts', 'CPS_NEG_Responds_Reasons',\n",
      "       'CPS_NEG_Responds_QuestionsOthers', 'CPS_NEG_Responds_Responds',\n",
      "       'CPS_NEG_MonitorsE_Results', 'CPS_NEG_MonitorsE_Strategizes',\n",
      "       'CPS_NEG_MonitorsE_Save', 'CPS_NEG_MonitorsE_GivingUp',\n",
      "       'CPS_MAINTAIN_Initiative_Suggestions',\n",
      "       'CPS_MAINTAIN_Initiative_Compliments',\n",
      "       'CPS_MAINTAIN_Initiative_Criticizes', 'CPS_MAINTAIN_FulfillsR_Support',\n",
      "       'CPS_MAINTAIN_FulfillsR_Apologizes',\n",
      "       'CPS_MAINTAIN_FulfillsR_InitiatesOffTopic',\n",
      "       'CPS_MAINTAIN_FulfillsR_JoinsOffTopic'],\n",
      "      dtype='object')\n",
      "(1822, 3)\n",
      "Class 0 Aurocs: [0.8295855379188712, 0.7764057750759877, 0.798901098901099, 0.8542857142857142, 0.8696330991412959, 0.8774995496306972, 0.7668985471558729, 0.8213095699341341, 0.8392857142857143, 0.8937833714721587]\n",
      "Average Class 0: 0.8327587977801544\n",
      "Class 1 Aurocs: [0.6603733104484016, 0.7681784107946027, 0.7620274914089347, 0.7714123652864435, 0.7879508521601268, 0.7168975069252077, 0.639720183198444, 0.6658950617283951, 0.8577283372365339, 0.688076923076923]\n",
      "Average Class 1: 0.7318260442264013\n",
      "Class 2 Aurocs: [0.6706738373932299, 0.5616197183098592, 0.6441850857260896, 0.5929906542056075, 0.7602323008849557, 0.6852559205500381, 0.659340252038547, 0.5937242798353909, 0.6536796536796536, 0.7045238095238096]\n",
      "Average Class 2: 0.6526225512147181\n",
      "Group Results:  {'Group_01': {0: 0.8295855379188712, 1: 0.6603733104484016, 2: 0.6706738373932299}, 'Group_02': {0: 0.7764057750759877, 1: 0.7681784107946027, 2: 0.5616197183098592}, 'Group_03': {0: 0.798901098901099, 1: 0.7620274914089347, 2: 0.6441850857260896}, 'Group_04': {0: 0.8542857142857142, 1: 0.7714123652864435, 2: 0.5929906542056075}, 'Group_05': {0: 0.8696330991412959, 1: 0.7879508521601268, 2: 0.7602323008849557}, 'Group_06': {0: 0.8774995496306972, 1: 0.7168975069252077, 2: 0.6852559205500381}, 'Group_07': {0: 0.7668985471558729, 1: 0.639720183198444, 2: 0.659340252038547}, 'Group_08': {0: 0.8213095699341341, 1: 0.6658950617283951, 2: 0.5937242798353909}, 'Group_09': {0: 0.8392857142857143, 1: 0.8577283372365339, 2: 0.6536796536796536}, 'Group_10': {0: 0.8937833714721587, 1: 0.688076923076923, 2: 0.7045238095238096}}\n",
      "Standard Deviation:  {0: 0.04267732978033406, 1: 0.0690207732927898, 2: 0.0587729203214197}\n"
     ]
    }
   ],
   "source": [
    "p_bi_gb = GradientBoostingClassifier(n_estimators=132, learning_rate=0.1, max_depth=3, max_features='sqrt', random_state=1)\n",
    "p_bi_gb_folds, p_bi_gb_avg, p_bi_gb_sd = getBinaryModelScores(p_bi_gb, prosodic_features, 3)"
   ]
  },
  {
   "cell_type": "code",
   "execution_count": 13,
   "metadata": {},
   "outputs": [
    {
     "name": "stdout",
     "output_type": "stream",
     "text": [
      "Index(['CPS_CONST_SharesU_Situation', 'CPS_CONST_SharesU_CorrectSolutions',\n",
      "       'CPS_CONST_SharesU_IncorrectSolutions',\n",
      "       'CPS_CONST_EstablishesCG_Confirms',\n",
      "       'CPS_CONST_EstablishesCG_Interrupts', 'CPS_NEG_Responds_Reasons',\n",
      "       'CPS_NEG_Responds_QuestionsOthers', 'CPS_NEG_Responds_Responds',\n",
      "       'CPS_NEG_MonitorsE_Results', 'CPS_NEG_MonitorsE_Strategizes',\n",
      "       'CPS_NEG_MonitorsE_Save', 'CPS_NEG_MonitorsE_GivingUp',\n",
      "       'CPS_MAINTAIN_Initiative_Suggestions',\n",
      "       'CPS_MAINTAIN_Initiative_Compliments',\n",
      "       'CPS_MAINTAIN_Initiative_Criticizes', 'CPS_MAINTAIN_FulfillsR_Support',\n",
      "       'CPS_MAINTAIN_FulfillsR_Apologizes',\n",
      "       'CPS_MAINTAIN_FulfillsR_InitiatesOffTopic',\n",
      "       'CPS_MAINTAIN_FulfillsR_JoinsOffTopic'],\n",
      "      dtype='object')\n",
      "(1294, 3)\n",
      "Class 0 Aurocs: [0.784688995215311, 0.6769495412844037, 0.7301240608072689, 0.8034534534534534, 0.8153142589118199, 0.8095538720538721, 0.7614274604683314, 0.8665624999999999]\n",
      "Average Class 0: 0.7810092677743075\n",
      "Class 1 Aurocs: [0.8286052009456264, 0.8053061224489796, 0.7362869198312236, 0.7235185185185186, 0.8283333333333334, 0.8233492171545269, 0.6914772727272727, 0.7981203007518797]\n",
      "Average Class 1: 0.7793746107139201\n",
      "Class 2 Aurocs: [0.5675084175084175, 0.4877622377622378, 0.6530599755201958, 0.5543615676359039, 0.6767279090113736, 0.6902361751152073, 0.6617715078630897, 0.6635802469135803]\n",
      "Average Class 2: 0.6193760046662509\n",
      "Group Results:  {'Group_01': {0: 0.784688995215311, 1: 0.8286052009456264, 2: 0.5675084175084175}, 'Group_02': {0: 0.6769495412844037, 1: 0.8053061224489796, 2: 0.4877622377622378}, 'Group_03': {0: 0.7301240608072689, 1: 0.7362869198312236, 2: 0.6530599755201958}, 'Group_04': {0: 0.8034534534534534, 1: 0.7235185185185186, 2: 0.5543615676359039}, 'Group_05': {0: 0.8153142589118199, 1: 0.8283333333333334, 2: 0.6767279090113736}, 'Group_06': {0: 0.8095538720538721, 1: 0.8233492171545269, 2: 0.6902361751152073}, 'Group_08': {0: 0.7614274604683314, 1: 0.6914772727272727, 2: 0.6617715078630897}, 'Group_09': {0: 0.8665624999999999, 1: 0.7981203007518797, 2: 0.6635802469135803}}\n",
      "Standard Deviation:  {0: 0.05810021195206652, 1: 0.05409068035470067, 2: 0.07312974337547783}\n"
     ]
    }
   ],
   "source": [
    "#{'criterion': 'entropy', 'max_features': 'log2', 'n_estimators': 164, 'type': 'randomforest'}\n",
    "p_bi_rf = RandomForestClassifier(n_estimators=132, criterion=\"gini\",max_features='sqrt', random_state=1)\n",
    "p_bi_rf_folds, p_bi_rf_avg, p_bi_rf_sd = getBinaryModelScores(p_bi_rf, prosodic_features, 3)"
   ]
  },
  {
   "cell_type": "code",
   "execution_count": null,
   "metadata": {},
   "outputs": [],
   "source": [
    "#{'algorithm': 'SAMME', 'learning_rate': 0.26326530612244897, 'n_estimators': 52}\n",
    "p_bi_ab = AdaBoostClassifier(n_estimators=85, learning_rate=1.0, algorithm=\"SAMME\")\n",
    "p_bi_ab_folds, p_bi_ab_avg, p_bi_ab_sd = getBinaryModelScores(p_bi_ab, prosodic_features, 3)"
   ]
  },
  {
   "cell_type": "code",
   "execution_count": null,
   "metadata": {},
   "outputs": [],
   "source": [
    "def modelPredictions(clf, features):\n",
    "    feature_df = getDataset(features)\n",
    "    y = getYBinary(feature_df)\n",
    "    X = getX(feature_df)\n",
    "    groups = getGroups(feature_df)\n",
    "    predictions = cross_val_predict(clf, X, y, groups=groups, n_jobs=20,cv=cv, verbose=0)\n",
    "    print(predictions)\n",
    "    return predictions"
   ]
  },
  {
   "cell_type": "code",
   "execution_count": null,
   "metadata": {},
   "outputs": [],
   "source": [
    "def compareTwoModels(clf, features, header, clf2, features2, header2):\n",
    "    predictions = modelPredictions(clf, features)\n",
    "    predictions2 = modelPredictions(clf2, features2)\n",
    "    with open(header + \"_vs_\" + header2 + \".csv\", 'w', newline = '') as predictionsCSV:\n",
    "        writer = csv.writer(predictionsCSV)\n",
    "        writer.writerow([header, header2])\n",
    "        for utterance_num in range(len(predictions)):\n",
    "            writer.writerow([predictions[utterance_num], predictions2[utterance_num]])"
   ]
  },
  {
   "cell_type": "code",
   "execution_count": null,
   "metadata": {},
   "outputs": [],
   "source": [
    "def compareThreeModels(clf, features, header, clf2, features2, header2, clf3, features3, header3):\n",
    "    feature_df = getDataset(features)\n",
    "    y = getY(feature_df)\n",
    "    utteranceID = getUtteranceID(feature_df)\n",
    "    predictions = modelPredictions(clf, features)\n",
    "    predictions2 = modelPredictions(clf2, features2)\n",
    "    predictions3 = modelPredictions(clf3, features3)\n",
    "    with open(header + \"_vs_\" + header2 + \"_vs_\" + header3 + \".csv\", 'w', newline = '') as predictionsCSV:\n",
    "        writer = csv.writer(predictionsCSV)\n",
    "        writer.writerow([\"Utterance\", \"True\", header, header2, header3])\n",
    "        for utterance_num in range(len(predictions)):\n",
    "            writer.writerow([utteranceID[utterance_num],y[utterance_num], predictions[utterance_num], predictions2[utterance_num], predictions3[utterance_num]])"
   ]
  },
  {
   "cell_type": "code",
   "execution_count": null,
   "metadata": {},
   "outputs": [],
   "source": [
    "b_mn_rf = RandomForestClassifier(n_estimators=68, criterion=\"entropy\",max_features='sqrt', random_state=1)\n",
    "p_mn_rf = RandomForestClassifier(n_estimators=164, criterion=\"entropy\",max_features='log2', random_state=1)\n",
    "bp_mn_rf = RandomForestClassifier(n_estimators=148, criterion=\"entropy\",max_features='log2', random_state=1)\n",
    "compareThreeModels(b_mn_rf, bert_features, \"BERT\", p_mn_rf, prosodic_features, \"Prosodic\", bp_mn_rf, bp_features, \"BERT-Prosodic\")"
   ]
  },
  {
   "cell_type": "code",
   "execution_count": null,
   "metadata": {},
   "outputs": [],
   "source": []
  }
 ],
 "metadata": {
  "kernelspec": {
   "display_name": "env_audio",
   "language": "python",
   "name": "python3"
  },
  "language_info": {
   "codemirror_mode": {
    "name": "ipython",
    "version": 3
   },
   "file_extension": ".py",
   "mimetype": "text/x-python",
   "name": "python",
   "nbconvert_exporter": "python",
   "pygments_lexer": "ipython3",
   "version": "3.11.5"
  },
  "orig_nbformat": 4,
  "vscode": {
   "interpreter": {
    "hash": "c11545d9d331e9667aa997e22c621c6c7427a0d7fae87f06d592e1ea5c75ce4c"
   }
  }
 },
 "nbformat": 4,
 "nbformat_minor": 2
}
